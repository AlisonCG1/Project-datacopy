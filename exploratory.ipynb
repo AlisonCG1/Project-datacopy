{
 "cells": [
  {
   "cell_type": "code",
   "execution_count": 1,
   "id": "1b3fc55e-27b4-4452-92e6-9cd45f0fe691",
   "metadata": {},
   "outputs": [],
   "source": [
    "import sqlite3"
   ]
  },
  {
   "cell_type": "code",
   "execution_count": 2,
   "id": "15d03763-1858-4154-bd7b-af8d81771291",
   "metadata": {},
   "outputs": [],
   "source": [
    "import pandas as pd\n",
    "import numpy as np"
   ]
  },
  {
   "cell_type": "code",
   "execution_count": 3,
   "id": "13df4b53-2fbd-4e20-89ce-efc4e081945c",
   "metadata": {},
   "outputs": [],
   "source": [
    "import matplotlib.pyplot as plt\n",
    "import seaborn as sns"
   ]
  },
  {
   "cell_type": "markdown",
   "id": "1bffe39c-8a78-4494-bd34-62db9474100d",
   "metadata": {},
   "source": [
    "Data Analysis! "
   ]
  },
  {
   "cell_type": "code",
   "execution_count": 4,
   "id": "8c4752c7-8d45-4b05-878a-005dc49498f5",
   "metadata": {},
   "outputs": [],
   "source": [
    "conn = sqlite3.connect('fake_social_network.db')"
   ]
  },
  {
   "cell_type": "code",
   "execution_count": 5,
   "id": "8a951ca4-71b8-423e-853b-1cd6c5417be1",
   "metadata": {},
   "outputs": [],
   "source": [
    "query = \"SELECT * FROM Friend\"\n",
    "Friend = pd.read_sql(query, conn)"
   ]
  },
  {
   "cell_type": "code",
   "execution_count": 6,
   "id": "1d404c54-a6cc-4b79-abb2-2a458b66493f",
   "metadata": {
    "scrolled": true
   },
   "outputs": [
    {
     "data": {
      "text/html": [
       "<div>\n",
       "<style scoped>\n",
       "    .dataframe tbody tr th:only-of-type {\n",
       "        vertical-align: middle;\n",
       "    }\n",
       "\n",
       "    .dataframe tbody tr th {\n",
       "        vertical-align: top;\n",
       "    }\n",
       "\n",
       "    .dataframe thead th {\n",
       "        text-align: right;\n",
       "    }\n",
       "</style>\n",
       "<table border=\"1\" class=\"dataframe\">\n",
       "  <thead>\n",
       "    <tr style=\"text-align: right;\">\n",
       "      <th></th>\n",
       "      <th>id</th>\n",
       "      <th>user_id</th>\n",
       "      <th>friend_id</th>\n",
       "      <th>created_at</th>\n",
       "    </tr>\n",
       "  </thead>\n",
       "  <tbody>\n",
       "    <tr>\n",
       "      <th>0</th>\n",
       "      <td>1</td>\n",
       "      <td>1</td>\n",
       "      <td>39</td>\n",
       "      <td>2025-01-03 10:23:05.422580</td>\n",
       "    </tr>\n",
       "    <tr>\n",
       "      <th>1</th>\n",
       "      <td>2</td>\n",
       "      <td>1</td>\n",
       "      <td>40</td>\n",
       "      <td>2025-01-17 04:13:24.721780</td>\n",
       "    </tr>\n",
       "    <tr>\n",
       "      <th>2</th>\n",
       "      <td>3</td>\n",
       "      <td>1</td>\n",
       "      <td>14</td>\n",
       "      <td>2025-01-24 23:33:15.521686</td>\n",
       "    </tr>\n",
       "    <tr>\n",
       "      <th>3</th>\n",
       "      <td>4</td>\n",
       "      <td>1</td>\n",
       "      <td>44</td>\n",
       "      <td>2025-01-20 03:37:57.020562</td>\n",
       "    </tr>\n",
       "    <tr>\n",
       "      <th>4</th>\n",
       "      <td>5</td>\n",
       "      <td>2</td>\n",
       "      <td>13</td>\n",
       "      <td>2025-01-05 06:26:03.512397</td>\n",
       "    </tr>\n",
       "    <tr>\n",
       "      <th>...</th>\n",
       "      <td>...</td>\n",
       "      <td>...</td>\n",
       "      <td>...</td>\n",
       "      <td>...</td>\n",
       "    </tr>\n",
       "    <tr>\n",
       "      <th>502</th>\n",
       "      <td>503</td>\n",
       "      <td>99</td>\n",
       "      <td>62</td>\n",
       "      <td>2025-01-14 01:53:32.161267</td>\n",
       "    </tr>\n",
       "    <tr>\n",
       "      <th>503</th>\n",
       "      <td>504</td>\n",
       "      <td>99</td>\n",
       "      <td>89</td>\n",
       "      <td>2025-01-08 10:48:40.606649</td>\n",
       "    </tr>\n",
       "    <tr>\n",
       "      <th>504</th>\n",
       "      <td>505</td>\n",
       "      <td>99</td>\n",
       "      <td>82</td>\n",
       "      <td>2025-01-10 22:27:32.701231</td>\n",
       "    </tr>\n",
       "    <tr>\n",
       "      <th>505</th>\n",
       "      <td>506</td>\n",
       "      <td>99</td>\n",
       "      <td>94</td>\n",
       "      <td>2025-01-09 12:36:31.053249</td>\n",
       "    </tr>\n",
       "    <tr>\n",
       "      <th>506</th>\n",
       "      <td>507</td>\n",
       "      <td>100</td>\n",
       "      <td>76</td>\n",
       "      <td>2025-01-20 04:27:28.240118</td>\n",
       "    </tr>\n",
       "  </tbody>\n",
       "</table>\n",
       "<p>507 rows × 4 columns</p>\n",
       "</div>"
      ],
      "text/plain": [
       "      id  user_id  friend_id                  created_at\n",
       "0      1        1         39  2025-01-03 10:23:05.422580\n",
       "1      2        1         40  2025-01-17 04:13:24.721780\n",
       "2      3        1         14  2025-01-24 23:33:15.521686\n",
       "3      4        1         44  2025-01-20 03:37:57.020562\n",
       "4      5        2         13  2025-01-05 06:26:03.512397\n",
       "..   ...      ...        ...                         ...\n",
       "502  503       99         62  2025-01-14 01:53:32.161267\n",
       "503  504       99         89  2025-01-08 10:48:40.606649\n",
       "504  505       99         82  2025-01-10 22:27:32.701231\n",
       "505  506       99         94  2025-01-09 12:36:31.053249\n",
       "506  507      100         76  2025-01-20 04:27:28.240118\n",
       "\n",
       "[507 rows x 4 columns]"
      ]
     },
     "execution_count": 6,
     "metadata": {},
     "output_type": "execute_result"
    }
   ],
   "source": [
    "Friend"
   ]
  },
  {
   "cell_type": "code",
   "execution_count": 7,
   "id": "34f2aaf8-8718-422b-9a92-3cd0c16bae09",
   "metadata": {},
   "outputs": [],
   "source": [
    "query = \"SELECT * FROM FriendRequest\"\n",
    "FriendRequest = pd.read_sql(query, conn)"
   ]
  },
  {
   "cell_type": "code",
   "execution_count": 8,
   "id": "09e773bb-efe6-4e54-936b-7b75bd5feb48",
   "metadata": {},
   "outputs": [
    {
     "data": {
      "text/html": [
       "<div>\n",
       "<style scoped>\n",
       "    .dataframe tbody tr th:only-of-type {\n",
       "        vertical-align: middle;\n",
       "    }\n",
       "\n",
       "    .dataframe tbody tr th {\n",
       "        vertical-align: top;\n",
       "    }\n",
       "\n",
       "    .dataframe thead th {\n",
       "        text-align: right;\n",
       "    }\n",
       "</style>\n",
       "<table border=\"1\" class=\"dataframe\">\n",
       "  <thead>\n",
       "    <tr style=\"text-align: right;\">\n",
       "      <th></th>\n",
       "      <th>id</th>\n",
       "      <th>sender_id</th>\n",
       "      <th>receiver_id</th>\n",
       "      <th>status</th>\n",
       "      <th>created_at</th>\n",
       "      <th>updated_at</th>\n",
       "    </tr>\n",
       "  </thead>\n",
       "  <tbody>\n",
       "    <tr>\n",
       "      <th>0</th>\n",
       "      <td>1</td>\n",
       "      <td>2</td>\n",
       "      <td>31</td>\n",
       "      <td>accepted</td>\n",
       "      <td>2025-01-10 16:52:13.594558</td>\n",
       "      <td>2025-01-25 15:18:09.657567</td>\n",
       "    </tr>\n",
       "    <tr>\n",
       "      <th>1</th>\n",
       "      <td>2</td>\n",
       "      <td>27</td>\n",
       "      <td>18</td>\n",
       "      <td>declined</td>\n",
       "      <td>2025-01-06 16:00:44.993587</td>\n",
       "      <td>2025-01-22 20:07:05.024940</td>\n",
       "    </tr>\n",
       "    <tr>\n",
       "      <th>2</th>\n",
       "      <td>3</td>\n",
       "      <td>25</td>\n",
       "      <td>7</td>\n",
       "      <td>accepted</td>\n",
       "      <td>2025-01-19 23:18:23.120776</td>\n",
       "      <td>2025-01-06 08:53:13.415954</td>\n",
       "    </tr>\n",
       "    <tr>\n",
       "      <th>3</th>\n",
       "      <td>4</td>\n",
       "      <td>33</td>\n",
       "      <td>43</td>\n",
       "      <td>declined</td>\n",
       "      <td>2025-01-06 12:15:42.959546</td>\n",
       "      <td>2025-01-21 04:03:27.714435</td>\n",
       "    </tr>\n",
       "    <tr>\n",
       "      <th>4</th>\n",
       "      <td>5</td>\n",
       "      <td>20</td>\n",
       "      <td>17</td>\n",
       "      <td>declined</td>\n",
       "      <td>2025-01-12 03:21:46.732738</td>\n",
       "      <td>2025-01-16 12:03:08.526940</td>\n",
       "    </tr>\n",
       "    <tr>\n",
       "      <th>...</th>\n",
       "      <td>...</td>\n",
       "      <td>...</td>\n",
       "      <td>...</td>\n",
       "      <td>...</td>\n",
       "      <td>...</td>\n",
       "      <td>...</td>\n",
       "    </tr>\n",
       "    <tr>\n",
       "      <th>94</th>\n",
       "      <td>95</td>\n",
       "      <td>55</td>\n",
       "      <td>100</td>\n",
       "      <td>declined</td>\n",
       "      <td>2025-01-16 19:58:10.002099</td>\n",
       "      <td>2025-01-07 11:44:14.750874</td>\n",
       "    </tr>\n",
       "    <tr>\n",
       "      <th>95</th>\n",
       "      <td>96</td>\n",
       "      <td>61</td>\n",
       "      <td>95</td>\n",
       "      <td>accepted</td>\n",
       "      <td>2025-01-26 07:34:26.624849</td>\n",
       "      <td>2025-01-20 03:18:32.893238</td>\n",
       "    </tr>\n",
       "    <tr>\n",
       "      <th>96</th>\n",
       "      <td>97</td>\n",
       "      <td>77</td>\n",
       "      <td>61</td>\n",
       "      <td>cancelled</td>\n",
       "      <td>2025-01-24 20:28:13.051183</td>\n",
       "      <td>2025-01-01 11:17:24.221755</td>\n",
       "    </tr>\n",
       "    <tr>\n",
       "      <th>97</th>\n",
       "      <td>98</td>\n",
       "      <td>76</td>\n",
       "      <td>73</td>\n",
       "      <td>declined</td>\n",
       "      <td>2025-01-18 16:09:06.536211</td>\n",
       "      <td>2025-01-18 18:16:29.120546</td>\n",
       "    </tr>\n",
       "    <tr>\n",
       "      <th>98</th>\n",
       "      <td>99</td>\n",
       "      <td>97</td>\n",
       "      <td>53</td>\n",
       "      <td>pending</td>\n",
       "      <td>2025-01-25 10:27:31.241905</td>\n",
       "      <td>2025-01-03 02:23:56.371208</td>\n",
       "    </tr>\n",
       "  </tbody>\n",
       "</table>\n",
       "<p>99 rows × 6 columns</p>\n",
       "</div>"
      ],
      "text/plain": [
       "    id  sender_id  receiver_id     status                  created_at  \\\n",
       "0    1          2           31   accepted  2025-01-10 16:52:13.594558   \n",
       "1    2         27           18   declined  2025-01-06 16:00:44.993587   \n",
       "2    3         25            7   accepted  2025-01-19 23:18:23.120776   \n",
       "3    4         33           43   declined  2025-01-06 12:15:42.959546   \n",
       "4    5         20           17   declined  2025-01-12 03:21:46.732738   \n",
       "..  ..        ...          ...        ...                         ...   \n",
       "94  95         55          100   declined  2025-01-16 19:58:10.002099   \n",
       "95  96         61           95   accepted  2025-01-26 07:34:26.624849   \n",
       "96  97         77           61  cancelled  2025-01-24 20:28:13.051183   \n",
       "97  98         76           73   declined  2025-01-18 16:09:06.536211   \n",
       "98  99         97           53    pending  2025-01-25 10:27:31.241905   \n",
       "\n",
       "                    updated_at  \n",
       "0   2025-01-25 15:18:09.657567  \n",
       "1   2025-01-22 20:07:05.024940  \n",
       "2   2025-01-06 08:53:13.415954  \n",
       "3   2025-01-21 04:03:27.714435  \n",
       "4   2025-01-16 12:03:08.526940  \n",
       "..                         ...  \n",
       "94  2025-01-07 11:44:14.750874  \n",
       "95  2025-01-20 03:18:32.893238  \n",
       "96  2025-01-01 11:17:24.221755  \n",
       "97  2025-01-18 18:16:29.120546  \n",
       "98  2025-01-03 02:23:56.371208  \n",
       "\n",
       "[99 rows x 6 columns]"
      ]
     },
     "execution_count": 8,
     "metadata": {},
     "output_type": "execute_result"
    }
   ],
   "source": [
    "FriendRequest"
   ]
  },
  {
   "cell_type": "code",
   "execution_count": 9,
   "id": "7f310f4f-d325-497f-98e9-aa52ba70f7c6",
   "metadata": {},
   "outputs": [],
   "source": [
    "query = \"SELECT * FROM post\"\n",
    "Post = pd.read_sql(query, conn)"
   ]
  },
  {
   "cell_type": "code",
   "execution_count": 10,
   "id": "1be43bde-6392-4849-9ba0-c7b286ecb27c",
   "metadata": {},
   "outputs": [
    {
     "data": {
      "text/html": [
       "<div>\n",
       "<style scoped>\n",
       "    .dataframe tbody tr th:only-of-type {\n",
       "        vertical-align: middle;\n",
       "    }\n",
       "\n",
       "    .dataframe tbody tr th {\n",
       "        vertical-align: top;\n",
       "    }\n",
       "\n",
       "    .dataframe thead th {\n",
       "        text-align: right;\n",
       "    }\n",
       "</style>\n",
       "<table border=\"1\" class=\"dataframe\">\n",
       "  <thead>\n",
       "    <tr style=\"text-align: right;\">\n",
       "      <th></th>\n",
       "      <th>id</th>\n",
       "      <th>user_id</th>\n",
       "      <th>body</th>\n",
       "      <th>created_at</th>\n",
       "      <th>updated_at</th>\n",
       "    </tr>\n",
       "  </thead>\n",
       "  <tbody>\n",
       "    <tr>\n",
       "      <th>0</th>\n",
       "      <td>1</td>\n",
       "      <td>1</td>\n",
       "      <td>Campaign type fact career affect new large exi...</td>\n",
       "      <td>2025-01-11 05:05:14.108649</td>\n",
       "      <td>2025-01-03 13:24:01.324700</td>\n",
       "    </tr>\n",
       "    <tr>\n",
       "      <th>1</th>\n",
       "      <td>2</td>\n",
       "      <td>1</td>\n",
       "      <td>Father hot money Mrs recognize late. Follow cl...</td>\n",
       "      <td>2025-01-01 06:45:39.920206</td>\n",
       "      <td>2025-01-04 14:24:45.548330</td>\n",
       "    </tr>\n",
       "    <tr>\n",
       "      <th>2</th>\n",
       "      <td>3</td>\n",
       "      <td>2</td>\n",
       "      <td>Several particularly learn including commercia...</td>\n",
       "      <td>2025-01-14 11:12:22.606138</td>\n",
       "      <td>2025-01-17 05:12:25.031789</td>\n",
       "    </tr>\n",
       "    <tr>\n",
       "      <th>3</th>\n",
       "      <td>4</td>\n",
       "      <td>3</td>\n",
       "      <td>Card dream scientist turn long mouth exist per...</td>\n",
       "      <td>2025-01-21 03:58:23.677513</td>\n",
       "      <td>2025-01-05 17:20:58.210271</td>\n",
       "    </tr>\n",
       "    <tr>\n",
       "      <th>4</th>\n",
       "      <td>5</td>\n",
       "      <td>3</td>\n",
       "      <td>No imagine expect hair of and. Consider free l...</td>\n",
       "      <td>2025-01-20 08:30:20.143015</td>\n",
       "      <td>2025-01-21 00:38:15.256166</td>\n",
       "    </tr>\n",
       "    <tr>\n",
       "      <th>...</th>\n",
       "      <td>...</td>\n",
       "      <td>...</td>\n",
       "      <td>...</td>\n",
       "      <td>...</td>\n",
       "      <td>...</td>\n",
       "    </tr>\n",
       "    <tr>\n",
       "      <th>284</th>\n",
       "      <td>285</td>\n",
       "      <td>98</td>\n",
       "      <td>Growth environment rest southern. More movemen...</td>\n",
       "      <td>2025-01-01 22:56:36.273960</td>\n",
       "      <td>2025-01-10 19:09:36.598151</td>\n",
       "    </tr>\n",
       "    <tr>\n",
       "      <th>285</th>\n",
       "      <td>286</td>\n",
       "      <td>99</td>\n",
       "      <td>Bring perhaps member than carry sport. Adult s...</td>\n",
       "      <td>2025-01-05 04:18:51.914534</td>\n",
       "      <td>2025-01-18 12:24:35.285322</td>\n",
       "    </tr>\n",
       "    <tr>\n",
       "      <th>286</th>\n",
       "      <td>287</td>\n",
       "      <td>99</td>\n",
       "      <td>Else hit buy would fear. Director might milita...</td>\n",
       "      <td>2025-01-03 20:20:14.491898</td>\n",
       "      <td>2025-01-14 23:03:04.078441</td>\n",
       "    </tr>\n",
       "    <tr>\n",
       "      <th>287</th>\n",
       "      <td>288</td>\n",
       "      <td>100</td>\n",
       "      <td>Which above create especially ago drive dog to...</td>\n",
       "      <td>2025-01-05 17:50:26.869421</td>\n",
       "      <td>2025-01-15 12:40:48.674058</td>\n",
       "    </tr>\n",
       "    <tr>\n",
       "      <th>288</th>\n",
       "      <td>289</td>\n",
       "      <td>100</td>\n",
       "      <td>Research account around page. In rather item n...</td>\n",
       "      <td>2025-01-18 21:25:51.067784</td>\n",
       "      <td>2025-01-11 03:42:29.271031</td>\n",
       "    </tr>\n",
       "  </tbody>\n",
       "</table>\n",
       "<p>289 rows × 5 columns</p>\n",
       "</div>"
      ],
      "text/plain": [
       "      id  user_id                                               body  \\\n",
       "0      1        1  Campaign type fact career affect new large exi...   \n",
       "1      2        1  Father hot money Mrs recognize late. Follow cl...   \n",
       "2      3        2  Several particularly learn including commercia...   \n",
       "3      4        3  Card dream scientist turn long mouth exist per...   \n",
       "4      5        3  No imagine expect hair of and. Consider free l...   \n",
       "..   ...      ...                                                ...   \n",
       "284  285       98  Growth environment rest southern. More movemen...   \n",
       "285  286       99  Bring perhaps member than carry sport. Adult s...   \n",
       "286  287       99  Else hit buy would fear. Director might milita...   \n",
       "287  288      100  Which above create especially ago drive dog to...   \n",
       "288  289      100  Research account around page. In rather item n...   \n",
       "\n",
       "                     created_at                  updated_at  \n",
       "0    2025-01-11 05:05:14.108649  2025-01-03 13:24:01.324700  \n",
       "1    2025-01-01 06:45:39.920206  2025-01-04 14:24:45.548330  \n",
       "2    2025-01-14 11:12:22.606138  2025-01-17 05:12:25.031789  \n",
       "3    2025-01-21 03:58:23.677513  2025-01-05 17:20:58.210271  \n",
       "4    2025-01-20 08:30:20.143015  2025-01-21 00:38:15.256166  \n",
       "..                          ...                         ...  \n",
       "284  2025-01-01 22:56:36.273960  2025-01-10 19:09:36.598151  \n",
       "285  2025-01-05 04:18:51.914534  2025-01-18 12:24:35.285322  \n",
       "286  2025-01-03 20:20:14.491898  2025-01-14 23:03:04.078441  \n",
       "287  2025-01-05 17:50:26.869421  2025-01-15 12:40:48.674058  \n",
       "288  2025-01-18 21:25:51.067784  2025-01-11 03:42:29.271031  \n",
       "\n",
       "[289 rows x 5 columns]"
      ]
     },
     "execution_count": 10,
     "metadata": {},
     "output_type": "execute_result"
    }
   ],
   "source": [
    "Post"
   ]
  },
  {
   "cell_type": "code",
   "execution_count": 11,
   "id": "537c193f-367b-435a-8076-d8ce3b97ac42",
   "metadata": {},
   "outputs": [],
   "source": [
    "query = \"SELECT * FROM Notification\"\n",
    "Notification = pd.read_sql(query, conn)"
   ]
  },
  {
   "cell_type": "code",
   "execution_count": 12,
   "id": "d017a3ee-9ae1-4e46-b3b1-4bc9346b8639",
   "metadata": {},
   "outputs": [
    {
     "data": {
      "text/html": [
       "<div>\n",
       "<style scoped>\n",
       "    .dataframe tbody tr th:only-of-type {\n",
       "        vertical-align: middle;\n",
       "    }\n",
       "\n",
       "    .dataframe tbody tr th {\n",
       "        vertical-align: top;\n",
       "    }\n",
       "\n",
       "    .dataframe thead th {\n",
       "        text-align: right;\n",
       "    }\n",
       "</style>\n",
       "<table border=\"1\" class=\"dataframe\">\n",
       "  <thead>\n",
       "    <tr style=\"text-align: right;\">\n",
       "      <th></th>\n",
       "      <th>id</th>\n",
       "      <th>type</th>\n",
       "      <th>user_id</th>\n",
       "      <th>target_id</th>\n",
       "      <th>target_type</th>\n",
       "      <th>is_read</th>\n",
       "      <th>created_at</th>\n",
       "      <th>updated_at</th>\n",
       "    </tr>\n",
       "  </thead>\n",
       "  <tbody>\n",
       "    <tr>\n",
       "      <th>0</th>\n",
       "      <td>1</td>\n",
       "      <td>comment</td>\n",
       "      <td>40</td>\n",
       "      <td>35</td>\n",
       "      <td>public</td>\n",
       "      <td>1</td>\n",
       "      <td>2025-01-06 01:48:33.101677</td>\n",
       "      <td>2025-01-18 07:06:52.630877</td>\n",
       "    </tr>\n",
       "    <tr>\n",
       "      <th>1</th>\n",
       "      <td>2</td>\n",
       "      <td>comment</td>\n",
       "      <td>21</td>\n",
       "      <td>15</td>\n",
       "      <td>suffer</td>\n",
       "      <td>1</td>\n",
       "      <td>2025-01-07 18:09:03.111727</td>\n",
       "      <td>2025-01-10 16:38:17.300007</td>\n",
       "    </tr>\n",
       "    <tr>\n",
       "      <th>2</th>\n",
       "      <td>3</td>\n",
       "      <td>friend_request</td>\n",
       "      <td>6</td>\n",
       "      <td>22</td>\n",
       "      <td>garden</td>\n",
       "      <td>0</td>\n",
       "      <td>2025-01-25 20:36:15.684523</td>\n",
       "      <td>2025-01-03 10:31:16.392840</td>\n",
       "    </tr>\n",
       "    <tr>\n",
       "      <th>3</th>\n",
       "      <td>4</td>\n",
       "      <td>friend_request</td>\n",
       "      <td>3</td>\n",
       "      <td>28</td>\n",
       "      <td>lawyer</td>\n",
       "      <td>0</td>\n",
       "      <td>2025-01-06 06:46:40.444836</td>\n",
       "      <td>2025-01-25 03:35:28.533852</td>\n",
       "    </tr>\n",
       "    <tr>\n",
       "      <th>4</th>\n",
       "      <td>5</td>\n",
       "      <td>comment</td>\n",
       "      <td>28</td>\n",
       "      <td>12</td>\n",
       "      <td>later</td>\n",
       "      <td>0</td>\n",
       "      <td>2025-01-15 16:54:22.314547</td>\n",
       "      <td>2025-01-18 11:31:20.759084</td>\n",
       "    </tr>\n",
       "    <tr>\n",
       "      <th>...</th>\n",
       "      <td>...</td>\n",
       "      <td>...</td>\n",
       "      <td>...</td>\n",
       "      <td>...</td>\n",
       "      <td>...</td>\n",
       "      <td>...</td>\n",
       "      <td>...</td>\n",
       "      <td>...</td>\n",
       "    </tr>\n",
       "    <tr>\n",
       "      <th>195</th>\n",
       "      <td>196</td>\n",
       "      <td>post</td>\n",
       "      <td>92</td>\n",
       "      <td>4</td>\n",
       "      <td>avoid</td>\n",
       "      <td>0</td>\n",
       "      <td>2025-01-04 21:04:39.063094</td>\n",
       "      <td>2025-01-19 09:55:39.572118</td>\n",
       "    </tr>\n",
       "    <tr>\n",
       "      <th>196</th>\n",
       "      <td>197</td>\n",
       "      <td>comment</td>\n",
       "      <td>74</td>\n",
       "      <td>36</td>\n",
       "      <td>agency</td>\n",
       "      <td>1</td>\n",
       "      <td>2025-01-23 20:02:53.034107</td>\n",
       "      <td>2025-01-08 16:25:52.674857</td>\n",
       "    </tr>\n",
       "    <tr>\n",
       "      <th>197</th>\n",
       "      <td>198</td>\n",
       "      <td>friend_request</td>\n",
       "      <td>52</td>\n",
       "      <td>39</td>\n",
       "      <td>up</td>\n",
       "      <td>1</td>\n",
       "      <td>2025-01-10 10:10:37.858539</td>\n",
       "      <td>2025-01-18 02:08:20.699901</td>\n",
       "    </tr>\n",
       "    <tr>\n",
       "      <th>198</th>\n",
       "      <td>199</td>\n",
       "      <td>post</td>\n",
       "      <td>99</td>\n",
       "      <td>47</td>\n",
       "      <td>them</td>\n",
       "      <td>0</td>\n",
       "      <td>2025-01-23 23:52:47.166665</td>\n",
       "      <td>2025-01-25 13:17:07.401926</td>\n",
       "    </tr>\n",
       "    <tr>\n",
       "      <th>199</th>\n",
       "      <td>200</td>\n",
       "      <td>post</td>\n",
       "      <td>76</td>\n",
       "      <td>28</td>\n",
       "      <td>us</td>\n",
       "      <td>1</td>\n",
       "      <td>2025-01-17 00:49:10.491781</td>\n",
       "      <td>2025-01-02 04:40:45.367249</td>\n",
       "    </tr>\n",
       "  </tbody>\n",
       "</table>\n",
       "<p>200 rows × 8 columns</p>\n",
       "</div>"
      ],
      "text/plain": [
       "      id            type  user_id  target_id target_type  is_read  \\\n",
       "0      1         comment       40         35      public        1   \n",
       "1      2         comment       21         15      suffer        1   \n",
       "2      3  friend_request        6         22      garden        0   \n",
       "3      4  friend_request        3         28      lawyer        0   \n",
       "4      5         comment       28         12       later        0   \n",
       "..   ...             ...      ...        ...         ...      ...   \n",
       "195  196            post       92          4       avoid        0   \n",
       "196  197         comment       74         36      agency        1   \n",
       "197  198  friend_request       52         39          up        1   \n",
       "198  199            post       99         47        them        0   \n",
       "199  200            post       76         28          us        1   \n",
       "\n",
       "                     created_at                  updated_at  \n",
       "0    2025-01-06 01:48:33.101677  2025-01-18 07:06:52.630877  \n",
       "1    2025-01-07 18:09:03.111727  2025-01-10 16:38:17.300007  \n",
       "2    2025-01-25 20:36:15.684523  2025-01-03 10:31:16.392840  \n",
       "3    2025-01-06 06:46:40.444836  2025-01-25 03:35:28.533852  \n",
       "4    2025-01-15 16:54:22.314547  2025-01-18 11:31:20.759084  \n",
       "..                          ...                         ...  \n",
       "195  2025-01-04 21:04:39.063094  2025-01-19 09:55:39.572118  \n",
       "196  2025-01-23 20:02:53.034107  2025-01-08 16:25:52.674857  \n",
       "197  2025-01-10 10:10:37.858539  2025-01-18 02:08:20.699901  \n",
       "198  2025-01-23 23:52:47.166665  2025-01-25 13:17:07.401926  \n",
       "199  2025-01-17 00:49:10.491781  2025-01-02 04:40:45.367249  \n",
       "\n",
       "[200 rows x 8 columns]"
      ]
     },
     "execution_count": 12,
     "metadata": {},
     "output_type": "execute_result"
    }
   ],
   "source": [
    "Notification"
   ]
  },
  {
   "cell_type": "code",
   "execution_count": 13,
   "id": "adeb6898-ce69-4c6f-afe0-67d62789407f",
   "metadata": {},
   "outputs": [
    {
     "data": {
      "image/png": "[encoded data removed]",
      "text/plain": [
       "<Figure size 640x480 with 1 Axes>"
      ]
     },
     "metadata": {},
     "output_type": "display_data"
    }
   ],
   "source": [
    "query = \"SELECT user_id, COUNT(*) AS total_posts FROM post GROUP BY user_id ORDER BY total_posts DESC LIMIT 25\"\n",
    "total_posts = pd.read_sql(query, conn)\n",
    "\n",
    "total = sns.barplot(x ='user_id', y ='total_posts', data = total_posts, palette ='flare', hue = 'user_id')\n",
    "plt.xticks(rotation=45, ha=\"right\")\n",
    "plt.xticks(fontsize=8)\n",
    "plt.title('Most popular post per user')\n",
    "plt.show()"
   ]
  },
  {
   "cell_type": "code",
   "execution_count": 14,
   "id": "3134791b-cd49-4266-bff7-aacc2c05f9dc",
   "metadata": {},
   "outputs": [
    {
     "data": {
      "image/png": "[encoded data removed]",
      "text/plain": [
       "<Figure size 640x480 with 1 Axes>"
      ]
     },
     "metadata": {},
     "output_type": "display_data"
    }
   ],
   "source": [
    "query = \"SELECT user_id, COUNT(*) AS total_posts FROM post GROUP BY user_id ORDER BY total_posts LIMIT 25\"\n",
    "leastpopular = pd.read_sql(query, conn)\n",
    "\n",
    "leastpopular = sns.barplot(x ='user_id', y ='total_posts', data = total_posts, palette ='Spectral', hue = 'user_id')\n",
    "plt.xticks(rotation=45, ha=\"right\")\n",
    "plt.xticks(fontsize=8)\n",
    "plt.title('Least popular post per user')\n",
    "plt.show()"
   ]
  },
  {
   "cell_type": "code",
   "execution_count": 15,
   "id": "69d2997e-9bce-4545-b5d1-616baf6fa8ca",
   "metadata": {},
   "outputs": [
    {
     "data": {
      "image/png": "[encoded data removed]",
      "text/plain": [
       "<Figure size 640x480 with 1 Axes>"
      ]
     },
     "metadata": {},
     "output_type": "display_data"
    }
   ],
   "source": [
    "query = \"SELECT user_id, COUNT(TYPE) AS comments FROM Notification WHERE type == 'comment' GROUP BY user_id ORDER BY comments DESC limit 20\"\n",
    "comments = pd.read_sql(query, conn)\n",
    "\n",
    "# plot the graph using the default estimator mean\n",
    "comments = sns.barplot(x ='user_id', y ='comments', data = comments, palette ='dark:#5A9_r', hue = 'user_id')\n",
    "plt.xticks(rotation=45, ha=\"right\")\n",
    "plt.xticks(fontsize=8)\n",
    "plt.title('Most comments done per user')\n",
    "plt.show()"
   ]
  },
  {
   "cell_type": "code",
   "execution_count": 16,
   "id": "0dc5c3f8-d1b9-4449-a102-4513fa5a1d31",
   "metadata": {},
   "outputs": [
    {
     "data": {
      "text/html": [
       "<div>\n",
       "<style scoped>\n",
       "    .dataframe tbody tr th:only-of-type {\n",
       "        vertical-align: middle;\n",
       "    }\n",
       "\n",
       "    .dataframe tbody tr th {\n",
       "        vertical-align: top;\n",
       "    }\n",
       "\n",
       "    .dataframe thead th {\n",
       "        text-align: right;\n",
       "    }\n",
       "</style>\n",
       "<table border=\"1\" class=\"dataframe\">\n",
       "  <thead>\n",
       "    <tr style=\"text-align: right;\">\n",
       "      <th></th>\n",
       "      <th>receiver</th>\n",
       "      <th>first_name</th>\n",
       "      <th>accepted_requests</th>\n",
       "    </tr>\n",
       "  </thead>\n",
       "  <tbody>\n",
       "    <tr>\n",
       "      <th>0</th>\n",
       "      <td>97</td>\n",
       "      <td>Thomas</td>\n",
       "      <td>3</td>\n",
       "    </tr>\n",
       "    <tr>\n",
       "      <th>1</th>\n",
       "      <td>4</td>\n",
       "      <td>Jennifer</td>\n",
       "      <td>2</td>\n",
       "    </tr>\n",
       "    <tr>\n",
       "      <th>2</th>\n",
       "      <td>2</td>\n",
       "      <td>Jack</td>\n",
       "      <td>1</td>\n",
       "    </tr>\n",
       "    <tr>\n",
       "      <th>3</th>\n",
       "      <td>6</td>\n",
       "      <td>Sarah</td>\n",
       "      <td>1</td>\n",
       "    </tr>\n",
       "    <tr>\n",
       "      <th>4</th>\n",
       "      <td>7</td>\n",
       "      <td>Nathan</td>\n",
       "      <td>1</td>\n",
       "    </tr>\n",
       "    <tr>\n",
       "      <th>5</th>\n",
       "      <td>12</td>\n",
       "      <td>Megan</td>\n",
       "      <td>1</td>\n",
       "    </tr>\n",
       "    <tr>\n",
       "      <th>6</th>\n",
       "      <td>16</td>\n",
       "      <td>Kimberly</td>\n",
       "      <td>1</td>\n",
       "    </tr>\n",
       "    <tr>\n",
       "      <th>7</th>\n",
       "      <td>18</td>\n",
       "      <td>James</td>\n",
       "      <td>1</td>\n",
       "    </tr>\n",
       "    <tr>\n",
       "      <th>8</th>\n",
       "      <td>19</td>\n",
       "      <td>Joseph</td>\n",
       "      <td>1</td>\n",
       "    </tr>\n",
       "    <tr>\n",
       "      <th>9</th>\n",
       "      <td>31</td>\n",
       "      <td>Cathy</td>\n",
       "      <td>1</td>\n",
       "    </tr>\n",
       "  </tbody>\n",
       "</table>\n",
       "</div>"
      ],
      "text/plain": [
       "   receiver first_name  accepted_requests\n",
       "0        97     Thomas                  3\n",
       "1         4   Jennifer                  2\n",
       "2         2       Jack                  1\n",
       "3         6      Sarah                  1\n",
       "4         7     Nathan                  1\n",
       "5        12      Megan                  1\n",
       "6        16   Kimberly                  1\n",
       "7        18      James                  1\n",
       "8        19     Joseph                  1\n",
       "9        31      Cathy                  1"
      ]
     },
     "execution_count": 16,
     "metadata": {},
     "output_type": "execute_result"
    }
   ],
   "source": [
    "query = \"SELECT fr.receiver_id AS receiver, u.first_name, COUNT(fr.id) AS accepted_requests FROM FriendRequest fr JOIN user u ON fr.receiver_id = u.id WHERE fr.status = 'accepted' GROUP BY fr.receiver_id, u.first_name ORDER BY accepted_requests DESC LIMIT 10;\"\n",
    "receiver_id = pd.read_sql(query, conn)\n",
    "receiver_id"
   ]
  },
  {
   "cell_type": "code",
   "execution_count": 17,
   "id": "ccd7b3d6-0a42-470d-a34e-833f6e112908",
   "metadata": {},
   "outputs": [
    {
     "data": {
      "image/png": "[encoded data removed]",
      "text/plain": [
       "<Figure size 640x480 with 1 Axes>"
      ]
     },
     "metadata": {},
     "output_type": "display_data"
    }
   ],
   "source": [
    "receiver_id = sns.barplot(receiver_id, x=\"accepted_requests\", y=\"first_name\", hue=\"first_name\", legend=False, palette = \"viridis\")\n",
    "plt.title('the person with the most accepted requests') \n",
    "plt.show()"
   ]
  },
  {
   "cell_type": "code",
   "execution_count": 18,
   "id": "91e07ae2-259f-4d20-9422-97d71b063685",
   "metadata": {},
   "outputs": [],
   "source": [
    "#fig = receiver_id.get_figure()\n",
    "#fig.savefig(\"receiver_id.png\")"
   ]
  },
  {
   "cell_type": "code",
   "execution_count": 19,
   "id": "3649fddb-4181-4f3e-a32b-d7ae135b72b7",
   "metadata": {},
   "outputs": [],
   "source": [
    "#fig = receiver_id.get_figure()\n",
    "#fig.savefig(\"receiver_id.png\")"
   ]
  },
  {
   "cell_type": "code",
   "execution_count": 20,
   "id": "eef38cf9-5a96-4c80-bb82-0f67434b4969",
   "metadata": {},
   "outputs": [
    {
     "data": {
      "text/html": [
       "<div>\n",
       "<style scoped>\n",
       "    .dataframe tbody tr th:only-of-type {\n",
       "        vertical-align: middle;\n",
       "    }\n",
       "\n",
       "    .dataframe tbody tr th {\n",
       "        vertical-align: top;\n",
       "    }\n",
       "\n",
       "    .dataframe thead th {\n",
       "        text-align: right;\n",
       "    }\n",
       "</style>\n",
       "<table border=\"1\" class=\"dataframe\">\n",
       "  <thead>\n",
       "    <tr style=\"text-align: right;\">\n",
       "      <th></th>\n",
       "      <th>user_id</th>\n",
       "      <th>time</th>\n",
       "    </tr>\n",
       "  </thead>\n",
       "  <tbody>\n",
       "    <tr>\n",
       "      <th>0</th>\n",
       "      <td>98</td>\n",
       "      <td>00:06:25</td>\n",
       "    </tr>\n",
       "    <tr>\n",
       "      <th>1</th>\n",
       "      <td>61</td>\n",
       "      <td>00:07:43</td>\n",
       "    </tr>\n",
       "    <tr>\n",
       "      <th>2</th>\n",
       "      <td>76</td>\n",
       "      <td>00:49:10</td>\n",
       "    </tr>\n",
       "    <tr>\n",
       "      <th>3</th>\n",
       "      <td>46</td>\n",
       "      <td>00:51:07</td>\n",
       "    </tr>\n",
       "    <tr>\n",
       "      <th>4</th>\n",
       "      <td>31</td>\n",
       "      <td>00:55:37</td>\n",
       "    </tr>\n",
       "    <tr>\n",
       "      <th>5</th>\n",
       "      <td>83</td>\n",
       "      <td>00:58:37</td>\n",
       "    </tr>\n",
       "    <tr>\n",
       "      <th>6</th>\n",
       "      <td>30</td>\n",
       "      <td>01:00:28</td>\n",
       "    </tr>\n",
       "    <tr>\n",
       "      <th>7</th>\n",
       "      <td>76</td>\n",
       "      <td>01:02:52</td>\n",
       "    </tr>\n",
       "    <tr>\n",
       "      <th>8</th>\n",
       "      <td>11</td>\n",
       "      <td>01:12:58</td>\n",
       "    </tr>\n",
       "    <tr>\n",
       "      <th>9</th>\n",
       "      <td>45</td>\n",
       "      <td>01:17:51</td>\n",
       "    </tr>\n",
       "    <tr>\n",
       "      <th>10</th>\n",
       "      <td>42</td>\n",
       "      <td>01:19:24</td>\n",
       "    </tr>\n",
       "    <tr>\n",
       "      <th>11</th>\n",
       "      <td>78</td>\n",
       "      <td>01:37:07</td>\n",
       "    </tr>\n",
       "    <tr>\n",
       "      <th>12</th>\n",
       "      <td>93</td>\n",
       "      <td>01:39:47</td>\n",
       "    </tr>\n",
       "    <tr>\n",
       "      <th>13</th>\n",
       "      <td>40</td>\n",
       "      <td>01:48:33</td>\n",
       "    </tr>\n",
       "    <tr>\n",
       "      <th>14</th>\n",
       "      <td>98</td>\n",
       "      <td>01:56:40</td>\n",
       "    </tr>\n",
       "    <tr>\n",
       "      <th>15</th>\n",
       "      <td>49</td>\n",
       "      <td>01:59:58</td>\n",
       "    </tr>\n",
       "    <tr>\n",
       "      <th>16</th>\n",
       "      <td>23</td>\n",
       "      <td>02:24:12</td>\n",
       "    </tr>\n",
       "    <tr>\n",
       "      <th>17</th>\n",
       "      <td>58</td>\n",
       "      <td>02:25:29</td>\n",
       "    </tr>\n",
       "    <tr>\n",
       "      <th>18</th>\n",
       "      <td>12</td>\n",
       "      <td>02:30:22</td>\n",
       "    </tr>\n",
       "    <tr>\n",
       "      <th>19</th>\n",
       "      <td>5</td>\n",
       "      <td>02:43:05</td>\n",
       "    </tr>\n",
       "  </tbody>\n",
       "</table>\n",
       "</div>"
      ],
      "text/plain": [
       "    user_id      time\n",
       "0        98  00:06:25\n",
       "1        61  00:07:43\n",
       "2        76  00:49:10\n",
       "3        46  00:51:07\n",
       "4        31  00:55:37\n",
       "5        83  00:58:37\n",
       "6        30  01:00:28\n",
       "7        76  01:02:52\n",
       "8        11  01:12:58\n",
       "9        45  01:17:51\n",
       "10       42  01:19:24\n",
       "11       78  01:37:07\n",
       "12       93  01:39:47\n",
       "13       40  01:48:33\n",
       "14       98  01:56:40\n",
       "15       49  01:59:58\n",
       "16       23  02:24:12\n",
       "17       58  02:25:29\n",
       "18       12  02:30:22\n",
       "19        5  02:43:05"
      ]
     },
     "execution_count": 20,
     "metadata": {},
     "output_type": "execute_result"
    }
   ],
   "source": [
    "query = \"SELECT user_id, TIME(created_at) AS time FROM Notification GROUP BY TIME(created_at) ORDER BY TIME LIMIT 20\"\n",
    "count = pd.read_sql(query, conn)\n",
    "\n",
    "count"
   ]
  },
  {
   "cell_type": "code",
   "execution_count": 21,
   "id": "5f964c9b-a850-4ec0-871b-6ab3c653ecc0",
   "metadata": {},
   "outputs": [
    {
     "data": {
      "image/png": "[encoded data removed]",
      "text/plain": [
       "<Figure size 640x480 with 1 Axes>"
      ]
     },
     "metadata": {},
     "output_type": "display_data"
    }
   ],
   "source": [
    "count.plot(x='time', y='user_id');"
   ]
  },
  {
   "cell_type": "code",
   "execution_count": 22,
   "id": "292e2385-b80b-436c-9141-bdaa6ed331b5",
   "metadata": {},
   "outputs": [
    {
     "ename": "AttributeError",
     "evalue": "'DataFrame' object has no attribute 'savefig'",
     "output_type": "error",
     "traceback": [
      "\u001b[0;31m---------------------------------------------------------------------------\u001b[0m",
      "\u001b[0;31mAttributeError\u001b[0m                            Traceback (most recent call last)",
      "\u001b[0;32m/var/folders/bk/4_dns4_x6z3_rrb8824x_td40000gn/T/ipykernel_82067/1792473623.py\u001b[0m in \u001b[0;36m?\u001b[0;34m()\u001b[0m\n\u001b[0;32m----> 1\u001b[0;31m \u001b[0mcount\u001b[0m\u001b[0;34m.\u001b[0m\u001b[0msavefig\u001b[0m\u001b[0;34m(\u001b[0m\u001b[0;34m'count.png'\u001b[0m\u001b[0;34m)\u001b[0m\u001b[0;34m\u001b[0m\u001b[0;34m\u001b[0m\u001b[0m\n\u001b[0m",
      "\u001b[0;32m~/opt/anaconda3/lib/python3.9/site-packages/pandas/core/generic.py\u001b[0m in \u001b[0;36m?\u001b[0;34m(self, name)\u001b[0m\n\u001b[1;32m   6295\u001b[0m             \u001b[0;32mand\u001b[0m \u001b[0mname\u001b[0m \u001b[0;32mnot\u001b[0m \u001b[0;32min\u001b[0m \u001b[0mself\u001b[0m\u001b[0;34m.\u001b[0m\u001b[0m_accessors\u001b[0m\u001b[0;34m\u001b[0m\u001b[0;34m\u001b[0m\u001b[0m\n\u001b[1;32m   6296\u001b[0m             \u001b[0;32mand\u001b[0m \u001b[0mself\u001b[0m\u001b[0;34m.\u001b[0m\u001b[0m_info_axis\u001b[0m\u001b[0;34m.\u001b[0m\u001b[0m_can_hold_identifiers_and_holds_name\u001b[0m\u001b[0;34m(\u001b[0m\u001b[0mname\u001b[0m\u001b[0;34m)\u001b[0m\u001b[0;34m\u001b[0m\u001b[0;34m\u001b[0m\u001b[0m\n\u001b[1;32m   6297\u001b[0m         ):\n\u001b[1;32m   6298\u001b[0m             \u001b[0;32mreturn\u001b[0m \u001b[0mself\u001b[0m\u001b[0;34m[\u001b[0m\u001b[0mname\u001b[0m\u001b[0;34m]\u001b[0m\u001b[0;34m\u001b[0m\u001b[0;34m\u001b[0m\u001b[0m\n\u001b[0;32m-> 6299\u001b[0;31m         \u001b[0;32mreturn\u001b[0m \u001b[0mobject\u001b[0m\u001b[0;34m.\u001b[0m\u001b[0m__getattribute__\u001b[0m\u001b[0;34m(\u001b[0m\u001b[0mself\u001b[0m\u001b[0;34m,\u001b[0m \u001b[0mname\u001b[0m\u001b[0;34m)\u001b[0m\u001b[0;34m\u001b[0m\u001b[0;34m\u001b[0m\u001b[0m\n\u001b[0m",
      "\u001b[0;31mAttributeError\u001b[0m: 'DataFrame' object has no attribute 'savefig'"
     ]
    }
   ],
   "source": [
    "count.savefig('count.png')"
   ]
  },
  {
   "cell_type": "code",
   "execution_count": null,
   "id": "14c49e54-8aa2-45f7-9efc-7b9d841fd623",
   "metadata": {},
   "outputs": [],
   "source": [
    "Notification"
   ]
  },
  {
   "cell_type": "code",
   "execution_count": null,
   "id": "0cdd7751-7d68-47f5-8cbf-5214ea41b330",
   "metadata": {},
   "outputs": [],
   "source": [
    " # plot the graph using the default estimator mean\n",
    "#sns.barplot(x ='user', y ='Hr', data = time, palette ='plasma', hue = 'user')\n",
    "#plt.xticks(rotation=45, ha=\"right\")\n",
    "#plt.xticks(fontsize=8)\n",
    "#plt.show()"
   ]
  },
  {
   "cell_type": "code",
   "execution_count": null,
   "id": "ad231f5e-0098-4f6a-8765-cda2cd4bce65",
   "metadata": {},
   "outputs": [],
   "source": [
    "# Plot the responses for different events and regions\n",
    "#sns.lineplot(x=\"time\", y=\"user_id\",\n",
    " #            hue=\"user_id\", style=\"time\",\n",
    "  #           data=count)"
   ]
  },
  {
   "cell_type": "code",
   "execution_count": null,
   "id": "85978c4d-3bdd-4033-b430-c4a3140143c5",
   "metadata": {},
   "outputs": [],
   "source": [
    "query = \"SELECT user_id, COUNT(TYPE) AS popular FROM Notification WHERE type == 'comment' GROUP BY user_id ORDER BY popular DESC LIMIT 10\"\n",
    "popular = pd.read_sql(query, conn)"
   ]
  },
  {
   "cell_type": "code",
   "execution_count": null,
   "id": "fdf1449a-4ebc-467d-84f0-e96cb03d9b48",
   "metadata": {},
   "outputs": [],
   "source": [
    "query = \"SELECT user_id, COUNT(TYPE) AS popular FROM Notification WHERE type == 'comment' GROUP BY user_id ORDER BY popular DESC LIMIT 10\"\n",
    "popular = pd.read_sql(query, conn)\n",
    "\n",
    "# plot the graph using the default estimator mean\n",
    "sns.barplot(x ='user_id', y ='popular', data = popular, palette ='plasma', hue = 'user_id')\n",
    "plt.xticks(rotation=45, ha=\"right\")\n",
    "plt.xticks(fontsize=8)\n",
    "plt.show() "
   ]
  },
  {
   "cell_type": "code",
   "execution_count": null,
   "id": "41a3d4e0-3927-4258-b901-3ecc54852d38",
   "metadata": {},
   "outputs": [],
   "source": [
    "query = \"SELECT COUNT(*) as count_status, status FROM FriendRequest GROUP BY status ORDER BY count_status DESC\"\n",
    "sender_count = pd.read_sql(query, conn)\n",
    "\n",
    "# plot the graph using the default estimator mean\n",
    "sns.barplot(x ='count_status', y ='status', data = sender_count, palette ='plasma', hue = 'status')\n",
    "plt.xticks(rotation=45, ha=\"right\")\n",
    "plt.xticks(fontsize=8)\n",
    "plt.show() "
   ]
  },
  {
   "cell_type": "code",
   "execution_count": null,
   "id": "6843867b-d861-4369-90ea-a5f8755e6b80",
   "metadata": {},
   "outputs": [],
   "source": [
    "query = \"SELECT sender_id, COUNT(sender_id) AS sender_counts, status FROM FriendRequest fr GROUP BY status ORDER BY sender_counts DESC\"\n",
    "sender_counts = pd.read_sql(query, conn)"
   ]
  },
  {
   "cell_type": "code",
   "execution_count": null,
   "id": "8738e99e-5e6c-43d7-9f43-450453b46f21",
   "metadata": {},
   "outputs": [],
   "source": [
    "sender_counts"
   ]
  },
  {
   "cell_type": "code",
   "execution_count": null,
   "id": "d1fcca49-0e4c-412b-af49-ce7bba0bddda",
   "metadata": {},
   "outputs": [],
   "source": [
    "query = \"SELECT TIME(created_at) AS time, COUNT(*) AS time FROM Notification GROUP BY TIME(created_at) ORDER BY time DESC LIMIT 5\"\n",
    "time = pd.read_sql(query, conn)\n",
    "time"
   ]
  },
  {
   "cell_type": "code",
   "execution_count": null,
   "id": "531d97a3-b7ad-4551-8a42-024d7cdf9eb6",
   "metadata": {},
   "outputs": [],
   "source": [
    "query = \"SELECT user_id, COUNT(*) AS user_count FROM Friend f GROUP BY user_id ORDER BY user_count DESC;\"\n",
    "user_count = pd.read_sql(query, conn)"
   ]
  },
  {
   "cell_type": "code",
   "execution_count": null,
   "id": "5b427d89-88d6-4a9e-a46b-65592104e8a1",
   "metadata": {},
   "outputs": [],
   "source": [
    "df = pd.read_sql(\"SELECT user_id, COUNT(*) AS total_posts FROM Notification GROUP BY user_id LIMIT 10\", conn)\n",
    "\n",
    "# set the background style of the plot\n",
    "sns.set_style('darkgrid')\n",
    "plt.figure(figsize=(8,8),)\n",
    "\n",
    "# plot the graph using the default estimator mean\n",
    "sns.barplot(x ='user_id', y ='total_posts', data = df, palette ='plasma', hue = 'user_id')\n",
    "plt.xticks(rotation=45, ha=\"right\")\n",
    "plt.xticks(fontsize=8)\n",
    "plt.show()"
   ]
  },
  {
   "cell_type": "code",
   "execution_count": null,
   "id": "1daf5459-17e3-4d43-acb5-f3299681984e",
   "metadata": {},
   "outputs": [],
   "source": [
    "query = \"SELECT sender_id,  COUNT(*) AS sent_requests, SUM(CASE WHEN status = 'accepted' THEN 1 ELSE 0 END) AS accepted_requests FROM FriendRequest GROUP BY sender_id \"\n",
    "sent_request = pd.read_sql(query, conn)"
   ]
  },
  {
   "cell_type": "code",
   "execution_count": null,
   "id": "230c2a39-2e22-412a-8e98-42f33fa03510",
   "metadata": {},
   "outputs": [],
   "source": [
    "sent_request"
   ]
  },
  {
   "cell_type": "markdown",
   "id": "574fa96b-8d5e-4fed-b1c2-f11f0f7c864e",
   "metadata": {},
   "source": [
    "MACHINE LEARNING!"
   ]
  },
  {
   "cell_type": "code",
   "execution_count": null,
   "id": "dc6272ae-e931-4c36-9288-284a6c4f382e",
   "metadata": {},
   "outputs": [],
   "source": [
    "import nltk\n",
    "nltk.download(\"Punkt\")\n",
    "from nltk.tokenize import sent_tokenize\n",
    "\n",
    "nltk.download('punkt')\n",
    "nltk.download('wordnet')\n",
    "nltk.download('omw-1.4')\n",
    "nltk.download('punkt_tab')"
   ]
  },
  {
   "cell_type": "code",
   "execution_count": null,
   "id": "ca4a1fba-5fc6-4770-b93b-60cab26a5654",
   "metadata": {},
   "outputs": [],
   "source": [
    "posts = Post.drop(columns=['id', 'user_id','created_at', 'updated_at'])\n",
    "posts"
   ]
  },
  {
   "cell_type": "code",
   "execution_count": null,
   "id": "c0e961ff-44da-49bf-b175-a806043110d6",
   "metadata": {},
   "outputs": [],
   "source": [
    "# Convert the 'posts' column to a single string\n",
    "text = \" \".join(posts['body'].astype(str))"
   ]
  },
  {
   "cell_type": "code",
   "execution_count": null,
   "id": "60d3a6ba-4726-437b-b29c-3ad01a7e3e66",
   "metadata": {},
   "outputs": [],
   "source": [
    "sentences = sent_tokenize(text)\n",
    "sentences"
   ]
  },
  {
   "cell_type": "code",
   "execution_count": null,
   "id": "0bb62583-9abc-4bd5-ba8c-64dce3fbc652",
   "metadata": {},
   "outputs": [],
   "source": [
    "#Punctuation removal\n",
    "import re\n",
    "\n",
    "#Remove punctuation characters\n",
    "text = re.sub(r\"\\.\",\"\",sentences[2])\n",
    "text"
   ]
  },
  {
   "cell_type": "code",
   "execution_count": null,
   "id": "323b2a7f-b111-4ceb-8b3e-6957baf026ae",
   "metadata": {},
   "outputs": [],
   "source": [
    "#Remove punctuation characters\n",
    "text2 = re.sub(r\"\\.\",\"\",sentences[12])\n",
    "text2"
   ]
  },
  {
   "cell_type": "markdown",
   "id": "663093ee-1d05-4e2d-99ef-2b5b7457f024",
   "metadata": {},
   "source": [
    "TOKENIZATION!!"
   ]
  },
  {
   "cell_type": "code",
   "execution_count": null,
   "id": "102b900d-2b5c-4b77-8c20-c8f123172fd9",
   "metadata": {},
   "outputs": [],
   "source": [
    "from nltk.tokenize import word_tokenize"
   ]
  },
  {
   "cell_type": "code",
   "execution_count": null,
   "id": "a1b6ca3f-82d9-4515-b62e-a767290a9862",
   "metadata": {},
   "outputs": [],
   "source": [
    "words = word_tokenize(text)\n",
    "print(words)"
   ]
  },
  {
   "cell_type": "code",
   "execution_count": null,
   "id": "827e006b-ab1c-4d7b-85f8-c00705061c2f",
   "metadata": {},
   "outputs": [],
   "source": [
    "words2 = word_tokenize(text2)\n",
    "print(words2)"
   ]
  },
  {
   "cell_type": "markdown",
   "id": "9876ee02-453d-4819-ae44-d2f2f794b457",
   "metadata": {},
   "source": [
    " Steaming"
   ]
  },
  {
   "cell_type": "code",
   "execution_count": null,
   "id": "3e3de7e1-c1f0-429b-bf9e-dbe85abdd341",
   "metadata": {},
   "outputs": [],
   "source": [
    "from nltk.stem.porter import PorterStemmer\n",
    "\n",
    "#reduce words to their stems\n",
    "stemmed = [PorterStemmer().stem(w)for w in words]\n",
    "print(stemmed)"
   ]
  },
  {
   "cell_type": "code",
   "execution_count": null,
   "id": "492e9dd3-b918-41cc-a2dd-a7b640fdfaa2",
   "metadata": {},
   "outputs": [],
   "source": [
    "#reduce words to their stems\n",
    "stemmed2 = [PorterStemmer().stem(w)for w in words]\n",
    "print(stemmed2)"
   ]
  },
  {
   "cell_type": "code",
   "execution_count": null,
   "id": "249f1c60-894c-417f-8b3d-8d140dfd58e2",
   "metadata": {},
   "outputs": [],
   "source": [
    "#Lemmatize\n",
    "from nltk.stem.wordnet import WordNetLemmatizer\n",
    "\n",
    "#Reduce words to their room form\n",
    "lemmatized = [WordNetLemmatizer().lemmatize(w) for w in words]\n",
    "print(lemmatized)"
   ]
  },
  {
   "cell_type": "code",
   "execution_count": null,
   "id": "02e4f347-19b0-4ba6-99ea-eb60e9293c15",
   "metadata": {},
   "outputs": [],
   "source": [
    "#Reduce words to their room form\n",
    "lemmatized2 = [WordNetLemmatizer().lemmatize(w) for w in words]\n",
    "print(lemmatized2)"
   ]
  },
  {
   "cell_type": "markdown",
   "id": "71cde968-6e0b-4818-87c9-13fc5649e649",
   "metadata": {},
   "source": [
    "This is example code"
   ]
  },
  {
   "cell_type": "code",
   "execution_count": null,
   "id": "01bf06d3-edc3-4018-b6bd-c4578ba15ee2",
   "metadata": {},
   "outputs": [],
   "source": [
    "#another stemming and lemmatization example\n",
    "#words2 = ['wait', 'waiting', 'studies', 'studying', 'computers']\n",
    "\n",
    "#stemming\n",
    "#Reduce words to their stems\n",
    "stemmed = [PorterStemmer().stem(w) for w in words2]\n",
    "print(\"Stemming output:{}\".format(stemmed))\n",
    "\n",
    "#Lemmatization\n",
    "#Reduce words to their root form\n",
    "lemmatized = [WordNetLemmatizer().lemmatize(w) for w in words2]\n",
    "print(\"Lemmatization output:{}\".format(lemmatized))"
   ]
  },
  {
   "cell_type": "code",
   "execution_count": null,
   "id": "fd37aa0e-7cb6-4c41-8941-cd3e0b55b996",
   "metadata": {},
   "outputs": [],
   "source": [
    "#stemming a second sentence \n",
    "#Reduce words to their stems\n",
    "stemmed2 = [PorterStemmer().stem(w) for w in words2]\n",
    "print(\"Stemming output:{}\".format(stemmed))\n",
    "\n",
    "#Lemmatization\n",
    "#Reduce words to their root form\n",
    "lemmatized = [WordNetLemmatizer().lemmatize(w) for w in words2]\n",
    "print(\"Lemmatization output:{}\".format(lemmatized))"
   ]
  },
  {
   "cell_type": "markdown",
   "id": "a2024cde-6a6e-4be5-9127-ad8c6ad9ae4e",
   "metadata": {},
   "source": [
    "Part of speech tagging"
   ]
  },
  {
   "cell_type": "code",
   "execution_count": null,
   "id": "8d3078b8-23d4-4aa6-903b-9f6ee4334525",
   "metadata": {},
   "outputs": [],
   "source": [
    "nltk.download('averaged_perceptron_tagger')\n",
    "nltk.download('averaged_perceptron_tagger_eng')\n",
    "nltk.download(\"maxent_ne_chunker\")"
   ]
  },
  {
   "cell_type": "code",
   "execution_count": null,
   "id": "585b5887-e24d-4aa7-b0e1-ba43de9d97f0",
   "metadata": {},
   "outputs": [],
   "source": [
    "import nltk\n",
    "from nltk.tag import pos_tag"
   ]
  },
  {
   "cell_type": "code",
   "execution_count": null,
   "id": "704904fd-b6a9-41d6-a281-6a6adb7f1635",
   "metadata": {},
   "outputs": [],
   "source": [
    "#tag each word with part of speech\n",
    "pos_tag(words)"
   ]
  },
  {
   "cell_type": "code",
   "execution_count": null,
   "id": "3c2a3427-14f8-4bd1-afc2-5082a9ec54a1",
   "metadata": {},
   "outputs": [],
   "source": [
    "pos_tag(words2)"
   ]
  },
  {
   "cell_type": "markdown",
   "id": "784abdd1-2b13-4e01-b372-e0ea8bc7d53c",
   "metadata": {},
   "source": [
    "Named entity recognition"
   ]
  },
  {
   "cell_type": "code",
   "execution_count": null,
   "id": "d663380a-8327-4a91-aff8-79fde3863ede",
   "metadata": {},
   "outputs": [],
   "source": [
    "from nltk import ne_chunk\n",
    "nltk.download('maxent_ne_chunker_tab')\n",
    "nltk.download(\"words\")"
   ]
  },
  {
   "cell_type": "code",
   "execution_count": null,
   "id": "6b1e3c2e-f792-4f1b-b61c-3b45116a287a",
   "metadata": {},
   "outputs": [],
   "source": [
    "ner_tree = ne_chunk(pos_tag(word_tokenize(sentences[2])))\n",
    "print(ner_tree)"
   ]
  },
  {
   "cell_type": "code",
   "execution_count": null,
   "id": "7d37bc95-e240-4946-9a74-d5b3fb1c85c9",
   "metadata": {},
   "outputs": [],
   "source": []
  }
 ],
 "metadata": {
  "kernelspec": {
   "display_name": "Python 3 (ipykernel)",
   "language": "python",
   "name": "python3"
  },
  "language_info": {
   "codemirror_mode": {
    "name": "ipython",
    "version": 3
   },
   "file_extension": ".py",
   "mimetype": "text/x-python",
   "name": "python",
   "nbconvert_exporter": "python",
   "pygments_lexer": "ipython3",
   "version": "3.9.19"
  }
 },
 "nbformat": 4,
 "nbformat_minor": 5
}
